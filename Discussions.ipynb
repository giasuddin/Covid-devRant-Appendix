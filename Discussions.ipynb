{
 "cells": [
  {
   "cell_type": "code",
   "execution_count": 2,
   "metadata": {},
   "outputs": [
    {
     "name": "stdout",
     "output_type": "stream",
     "text": [
      "The autoreload extension is already loaded. To reload it, use:\n",
      "  %reload_ext autoreload\n"
     ]
    }
   ],
   "source": [
    "%load_ext autoreload\n",
    "%autoreload 2\n",
    "%reload_ext autoreload\n",
    "import sys\n",
    "from __future__ import division\n",
    "sys.path.append(r\"C:\\dev\\opinion\\opinion\\python\\opinion\")\n",
    "import os\n",
    "import matplotlib.pyplot as plt\n",
    "\n",
    "import utils.fileutils as fileutils\n",
    "import utils.nlputils as nlputils\n",
    "import utils.metrics as metrics\n",
    "\n",
    "import cPickle as pickle\n",
    "import pandas as pd\n",
    "import numpy as np\n",
    "import scipy as sp\n",
    "\n",
    "from scipy.stats import kurtosis\n",
    "from scipy.stats import skew\n",
    "from scipy.stats import mannwhitneyu\n",
    "from scipy.stats import spearmanr\n",
    "from scipy.stats import kendalltau\n",
    "from scipy.stats import chisquare\n",
    "from scipy.stats import chi2_contingency\n",
    "from scipy.stats import pearsonr\n",
    "from math import sqrt\n",
    "\n",
    "import datetime\n",
    "from math import sqrt"
   ]
  },
  {
   "cell_type": "code",
   "execution_count": 4,
   "metadata": {},
   "outputs": [],
   "source": [
    "indir = r\"C:\\dev\\opinion\\papers\\covid19\\CovidDevRantOpenCoding\"\n",
    "infileXL = os.path.join(indir, \"CovidTagContentsWithCategoryMajorRevisionWithFinalCategories.xlsx\")"
   ]
  },
  {
   "cell_type": "code",
   "execution_count": 5,
   "metadata": {},
   "outputs": [
    {
     "data": {
      "text/html": [
       "<div>\n",
       "<style scoped>\n",
       "    .dataframe tbody tr th:only-of-type {\n",
       "        vertical-align: middle;\n",
       "    }\n",
       "\n",
       "    .dataframe tbody tr th {\n",
       "        vertical-align: top;\n",
       "    }\n",
       "\n",
       "    .dataframe thead th {\n",
       "        text-align: right;\n",
       "    }\n",
       "</style>\n",
       "<table border=\"1\" class=\"dataframe\">\n",
       "  <thead>\n",
       "    <tr style=\"text-align: right;\">\n",
       "      <th></th>\n",
       "      <th>id</th>\n",
       "      <th>creation_time</th>\n",
       "      <th>score</th>\n",
       "      <th>num_comments</th>\n",
       "      <th>tags</th>\n",
       "      <th>has_image</th>\n",
       "      <th>text</th>\n",
       "      <th>Relevant</th>\n",
       "      <th>Label1</th>\n",
       "      <th>Label2</th>\n",
       "      <th>...</th>\n",
       "      <th>Emotion2</th>\n",
       "      <th>Emotion3</th>\n",
       "      <th>sarcasm</th>\n",
       "      <th>irony</th>\n",
       "      <th>Category1</th>\n",
       "      <th>Category2</th>\n",
       "      <th>Category3</th>\n",
       "      <th>Category4</th>\n",
       "      <th>FinalCategory4</th>\n",
       "      <th>FinalCategory3</th>\n",
       "    </tr>\n",
       "  </thead>\n",
       "  <tbody>\n",
       "    <tr>\n",
       "      <th>0</th>\n",
       "      <td>2438510</td>\n",
       "      <td>2020-03-21 15:17:25</td>\n",
       "      <td>106</td>\n",
       "      <td>17</td>\n",
       "      <td>rant</td>\n",
       "      <td>NaN</td>\n",
       "      <td>Clickbait will never change. \\nIt's the most s...</td>\n",
       "      <td>N</td>\n",
       "      <td>NaN</td>\n",
       "      <td>NaN</td>\n",
       "      <td>...</td>\n",
       "      <td>NaN</td>\n",
       "      <td>NaN</td>\n",
       "      <td>NaN</td>\n",
       "      <td>NaN</td>\n",
       "      <td>NaN</td>\n",
       "      <td>NaN</td>\n",
       "      <td>NaN</td>\n",
       "      <td>NaN</td>\n",
       "      <td>NaN</td>\n",
       "      <td>NaN</td>\n",
       "    </tr>\n",
       "    <tr>\n",
       "      <th>1</th>\n",
       "      <td>2423716</td>\n",
       "      <td>2020-03-05 07:31:51</td>\n",
       "      <td>95</td>\n",
       "      <td>10</td>\n",
       "      <td>joke/meme,covid-19,corona,bug,ticket</td>\n",
       "      <td>NaN</td>\n",
       "      <td>COVID-19\\nWhy it sounds like a JIRA ticket?</td>\n",
       "      <td>Y</td>\n",
       "      <td>joke/meme</td>\n",
       "      <td>bug</td>\n",
       "      <td>...</td>\n",
       "      <td>NaN</td>\n",
       "      <td>NaN</td>\n",
       "      <td>Y</td>\n",
       "      <td>NaN</td>\n",
       "      <td>NaN</td>\n",
       "      <td>joke/meme,coding &amp; maintenance</td>\n",
       "      <td>entertainment,development</td>\n",
       "      <td>Wellbeing,Technical</td>\n",
       "      <td>Personal &amp; Family Wellbeing|Technical Aspects</td>\n",
       "      <td>Development|Entertainment</td>\n",
       "    </tr>\n",
       "    <tr>\n",
       "      <th>2</th>\n",
       "      <td>2452432</td>\n",
       "      <td>2020-04-05 18:52:13</td>\n",
       "      <td>66</td>\n",
       "      <td>7</td>\n",
       "      <td>devrant,corona virus</td>\n",
       "      <td>NaN</td>\n",
       "      <td>*Corona Virus Lock-down*\\n-University Prof: \"N...</td>\n",
       "      <td>Y</td>\n",
       "      <td>lockdown</td>\n",
       "      <td>work life balance</td>\n",
       "      <td>...</td>\n",
       "      <td>NaN</td>\n",
       "      <td>NaN</td>\n",
       "      <td>Y</td>\n",
       "      <td>NaN</td>\n",
       "      <td>NaN</td>\n",
       "      <td>quarantine,Freetime/Vacation</td>\n",
       "      <td>pandemic,work/life work/life balance</td>\n",
       "      <td>Emergency ,Wellbeing</td>\n",
       "      <td>Lockdown Preparedness|Personal &amp; Family Wellbeing</td>\n",
       "      <td>Coping|Work Life Balance</td>\n",
       "    </tr>\n",
       "  </tbody>\n",
       "</table>\n",
       "<p>3 rows × 26 columns</p>\n",
       "</div>"
      ],
      "text/plain": [
       "        id       creation_time  score  num_comments  \\\n",
       "0  2438510 2020-03-21 15:17:25    106            17   \n",
       "1  2423716 2020-03-05 07:31:51     95            10   \n",
       "2  2452432 2020-04-05 18:52:13     66             7   \n",
       "\n",
       "                                   tags has_image  \\\n",
       "0                                  rant       NaN   \n",
       "1  joke/meme,covid-19,corona,bug,ticket       NaN   \n",
       "2                  devrant,corona virus       NaN   \n",
       "\n",
       "                                                text Relevant     Label1  \\\n",
       "0  Clickbait will never change. \\nIt's the most s...        N        NaN   \n",
       "1        COVID-19\\nWhy it sounds like a JIRA ticket?        Y  joke/meme   \n",
       "2  *Corona Virus Lock-down*\\n-University Prof: \"N...        Y   lockdown   \n",
       "\n",
       "              Label2            ...             Emotion2 Emotion3 sarcasm  \\\n",
       "0                NaN            ...                  NaN      NaN     NaN   \n",
       "1                bug            ...                  NaN      NaN       Y   \n",
       "2  work life balance            ...                  NaN      NaN       Y   \n",
       "\n",
       "  irony Category1                       Category2  \\\n",
       "0   NaN       NaN                             NaN   \n",
       "1   NaN       NaN  joke/meme,coding & maintenance   \n",
       "2   NaN       NaN    quarantine,Freetime/Vacation   \n",
       "\n",
       "                              Category3             Category4  \\\n",
       "0                                   NaN                   NaN   \n",
       "1             entertainment,development   Wellbeing,Technical   \n",
       "2  pandemic,work/life work/life balance  Emergency ,Wellbeing   \n",
       "\n",
       "                                      FinalCategory4  \\\n",
       "0                                                NaN   \n",
       "1      Personal & Family Wellbeing|Technical Aspects   \n",
       "2  Lockdown Preparedness|Personal & Family Wellbeing   \n",
       "\n",
       "              FinalCategory3  \n",
       "0                        NaN  \n",
       "1  Development|Entertainment  \n",
       "2   Coping|Work Life Balance  \n",
       "\n",
       "[3 rows x 26 columns]"
      ]
     },
     "execution_count": 5,
     "metadata": {},
     "output_type": "execute_result"
    }
   ],
   "source": [
    "df = pd.read_excel(infileXL)\n",
    "df.head(3)"
   ]
  },
  {
   "cell_type": "markdown",
   "metadata": {},
   "source": [
    "# compute co-occurrence of topic categories"
   ]
  },
  {
   "cell_type": "code",
   "execution_count": 6,
   "metadata": {},
   "outputs": [],
   "source": [
    "fcats = ['lockdown preparedness', 'technical aspects', 'personal & family wellbeing', \n",
    "       'worplace & professional aspects', 'financial concerns', 'education & societal concerns']"
   ]
  },
  {
   "cell_type": "code",
   "execution_count": 9,
   "metadata": {},
   "outputs": [
    {
     "name": "stdout",
     "output_type": "stream",
     "text": [
      "education & societal concerns=>personal & family wellbeing 46\n",
      "education & societal concerns=>financial concerns 28\n",
      "financial concerns=>technical aspects 38\n",
      "worplace & professional aspects=>lockdown preparedness 148\n",
      "financial concerns=>lockdown preparedness 46\n",
      "personal & family wellbeing=>lockdown preparedness 238\n",
      "education & societal concerns=>worplace & professional aspects 94\n",
      "personal & family wellbeing=>technical aspects 184\n",
      "education & societal concerns=>lockdown preparedness 88\n",
      "technical aspects=>lockdown preparedness 126\n",
      "worplace & professional aspects=>personal & family wellbeing 230\n",
      "worplace & professional aspects=>technical aspects 188\n",
      "financial concerns=>personal & family wellbeing 46\n",
      "education & societal concerns=>technical aspects 38\n",
      "financial concerns=>worplace & professional aspects 108\n"
     ]
    }
   ],
   "source": [
    "isnullFinalCategory4 = pd.isnull(df[\"FinalCategory4\"])\n",
    "\n",
    "colocates = dict()\n",
    "\n",
    "for i, c1 in enumerate(fcats):\n",
    "    #colocates[c1] = dict()\n",
    "    for j, c2 in enumerate(fcats):\n",
    "        if i < j : continue\n",
    "        if c1 == c2: continue\n",
    "        key = c1+'=>'+c2\n",
    "        colocates[key] = 0\n",
    "\n",
    "for index, row in df.iterrows():\n",
    "    if isnullFinalCategory4[index]: continue\n",
    "    isrelevant = row[\"Relevant\"]\n",
    "    if isrelevant!= 'Y': continue\n",
    "    cat4 = row[\"FinalCategory4\"]\n",
    "    cats = [c.lower().strip() for c in cat4.split(\"|\")]\n",
    "    for l1 in cats:\n",
    "        for l2 in cats:\n",
    "            if l1 == l2: continue\n",
    "            key1 =  l1+'=>'+l2\n",
    "            key2 =  l2+'=>'+l1\n",
    "            if key1 in colocates:\n",
    "                colocates[key1] += 1\n",
    "            elif key2 in colocates: \n",
    "                colocates[key2] += 1\n",
    "            else: \n",
    "                print \"Absent = \", key1, '|', key2\n",
    "for c in colocates:\n",
    "    print c, colocates[c]"
   ]
  },
  {
   "cell_type": "code",
   "execution_count": 10,
   "metadata": {},
   "outputs": [],
   "source": [
    "# compute MW test of occurrence distribtution\n",
    "\n",
    "def computeDistributionBetween(c1, c2):\n",
    "    dist = {c1: [], c2: []}\n",
    "    isnullFinalCategory4 = pd.isnull(df[\"FinalCategory4\"])\n",
    "    for index, row in df.iterrows():\n",
    "        if isnullFinalCategory4[index]: continue\n",
    "        isrelevant = row[\"Relevant\"]\n",
    "        if isrelevant!= 'Y': continue\n",
    "        cat4 = row[\"FinalCategory4\"]\n",
    "        cats = [c.lower().strip() for c in cat4.split(\"|\")]\n",
    "        \n",
    "        if c1 in cats:\n",
    "            dist[c1].append(1)\n",
    "        else:\n",
    "            dist[c1].append(0)\n",
    "        if c2 in cats:\n",
    "            dist[c2].append(1)\n",
    "        else:\n",
    "            dist[c2].append(0)\n",
    "    return dist\n",
    "\n",
    "def cohen_d(x,y):\n",
    "    nx = len(x)\n",
    "    ny = len(y)\n",
    "    dof = nx + ny - 2\n",
    "    return (np.mean(x) - np.mean(y)) / sqrt(((nx-1)*np.std(x, ddof=1) ** 2 + (ny-1)*np.std(y, ddof=1) ** 2) / dof)\n",
    "\n",
    "def computeSignificance(c1, c2):\n",
    "    dist = computeDistributionBetween(c1, c2)\n",
    "    l1 = dist[c1]\n",
    "    l2 = dist[c2]\n",
    "    m1 = []\n",
    "    m2 = []\n",
    "    for i, k1 in enumerate(l1):\n",
    "        k2 = l2[i]\n",
    "        if k1 == 0 and k2 == 0: continue\n",
    "        m1.append(k1)\n",
    "        m2.append(k2)\n",
    "        \n",
    "    #print \"MW\"\n",
    "    s, p = mannwhitneyu(m1, m2)\n",
    "    print s, p, p <= 0.05\n",
    "    #print \"Cohen\"\n",
    "    #print cohen_d(dist[c1], dist[c2])\n",
    "def computeCorrelation(c1, c2):\n",
    "    dist = computeDistributionBetween(c1, c2)\n",
    "    l1 = dist[c1]\n",
    "    l2 = dist[c2]\n",
    "    m1 = []\n",
    "    m2 = []\n",
    "    for i, k1 in enumerate(l1):\n",
    "        k2 = l2[i]\n",
    "        if k1 == 0 and k2 == 0: continue\n",
    "        m1.append(k1)\n",
    "        m2.append(k2)    \n",
    "    s, p = kendalltau(m1, m2)\n",
    "    print s, p, p<=0.05\n",
    "def computeIndependence(c1, c2):\n",
    "        dist = computeDistributionBetween(c1, c2)\n",
    "        l1 = dist[c1]\n",
    "        l2 = dist[c2]\n",
    "        m1 = []\n",
    "        m2 = []\n",
    "        for i, k1 in enumerate(l1):\n",
    "            k2 = l2[i]\n",
    "            if k1 == k2 and k1 == 0: continue\n",
    "            #if k1 == 0 and k2 == 0: continue\n",
    "            m1.append(k1)\n",
    "            m2.append(k2)   \n",
    "        print len(m1)\n",
    "        obs = np.array([m1,m2])\n",
    "        #g, p, dof, expctd = chi2_contingency(np.array([dist[c1], dist[c2]]), lambda_=\"log-likelihood\")\n",
    "        g, p, dof, expctd = chi2_contingency(obs, lambda_=\"log-likelihood\")\n",
    "        msg = 'Has Relationship'\n",
    "        if p <= 0.05: \n",
    "            msg = 'No Relationship'\n",
    "        print g, p, dof, p<=0.05, msg\n",
    "        #print s, p, p<=0.05\n",
    "def pearson(c1, c2):\n",
    "        dist = computeDistributionBetween(c1, c2)\n",
    "        l1 = dist[c1]\n",
    "        l2 = dist[c2]\n",
    "        m1 = []\n",
    "        m2 = []\n",
    "        for i, k1 in enumerate(l1):\n",
    "            k2 = l2[i]\n",
    "            if k1 == 0 and k2 == 0: continue\n",
    "            m1.append(k1)\n",
    "            m2.append(k2)   \n",
    "        s, p = pearsonr(m1, m2)\n",
    "        #print r[0,1]\n",
    "        #obs = np.array([m1,m2])\n",
    "        #g, p, dof, expctd = chi2_contingency(np.array([dist[c1], dist[c2]]), lambda_=\"log-likelihood\")\n",
    "        #g, p, dof, expctd = chi2_contingency(obs, lambda_=\"log-likelihood\")\n",
    "        #print g, p, dof, p<=0.05\n",
    "        print s, p, p<=0.05\n",
    "    "
   ]
  },
  {
   "cell_type": "code",
   "execution_count": 11,
   "metadata": {
    "scrolled": false
   },
   "outputs": [
    {
     "name": "stdout",
     "output_type": "stream",
     "text": [
      "lockdown preparedness <=> technical aspects\n",
      "486\n",
      "585.8760189384219 0.0011093684940903406 485 True No Relationship\n",
      "=========================\n",
      "lockdown preparedness <=> personal & family wellbeing\n",
      "494\n",
      "516.2532575012416 0.2265211453700183 493 False Has Relationship\n",
      "=========================\n",
      "lockdown preparedness <=> worplace & professional aspects\n",
      "634\n",
      "747.6505335727365 0.0010903294331085593 633 True No Relationship\n",
      "=========================\n",
      "lockdown preparedness <=> financial concerns\n",
      "380\n",
      "427.052365983748 0.044512243376406364 379 True No Relationship\n",
      "=========================\n",
      "lockdown preparedness <=> education & societal concerns\n",
      "352\n",
      "351.5735604399367 0.4813372727706143 351 False Has Relationship\n",
      "=========================\n",
      "technical aspects <=> personal & family wellbeing\n",
      "504\n",
      "564.2675244800259 0.030109250088757696 503 True No Relationship\n",
      "=========================\n",
      "technical aspects <=> worplace & professional aspects\n",
      "597\n",
      "660.3900666987622 0.03430901115057688 596 True No Relationship\n",
      "=========================\n",
      "technical aspects <=> financial concerns\n",
      "367\n",
      "425.8092089647387 0.016799997523696892 366 True No Relationship\n",
      "=========================\n",
      "technical aspects <=> education & societal concerns\n",
      "360\n",
      "409.1635744290704 0.03468673905013637 359 True No Relationship\n",
      "=========================\n",
      "personal & family wellbeing <=> worplace & professional aspects\n",
      "640\n",
      "715.819152778751 0.01845418699160178 639 True No Relationship\n",
      "=========================\n",
      "personal & family wellbeing <=> financial concerns\n",
      "427\n",
      "458.1541136647759 0.1361616617696252 426 False Has Relationship\n",
      "=========================\n",
      "personal & family wellbeing <=> education & societal concerns\n",
      "420\n",
      "439.34247667553905 0.23742844975985264 419 False Has Relationship\n",
      "=========================\n",
      "worplace & professional aspects <=> financial concerns\n",
      "491\n",
      "424.8629133285425 0.9845852997173422 490 False Has Relationship\n",
      "=========================\n",
      "worplace & professional aspects <=> education & societal concerns\n",
      "491\n",
      "422.75870017406703 0.9872369800631836 490 False Has Relationship\n",
      "=========================\n",
      "financial concerns <=> education & societal concerns\n",
      "219\n",
      "283.98001195357955 0.001756280492310436 218 True No Relationship\n",
      "=========================\n"
     ]
    }
   ],
   "source": [
    "for i, c1 in enumerate(fcats):\n",
    "    for j, c2 in enumerate(fcats):\n",
    "        if c1 == c2: continue\n",
    "        if i > j: continue\n",
    "        print c1,'<=>' , c2\n",
    "        #computeSignificance(c1, c2)\n",
    "        #computeCorrelation(c1, c2)\n",
    "        computeIndependence(c1, c2)\n",
    "        #pearson(c1, c2)\n",
    "        print \"=========================\""
   ]
  },
  {
   "cell_type": "code",
   "execution_count": 91,
   "metadata": {},
   "outputs": [
    {
     "data": {
      "text/plain": [
       "(2.7777777777777777, 0.24935220877729622, 2L, array([[12., 12., 16.],\n",
       "        [18., 18., 24.]]))"
      ]
     },
     "execution_count": 91,
     "metadata": {},
     "output_type": "execute_result"
    }
   ],
   "source": [
    "from scipy.stats import chi2_contingency\n",
    "obs = np.array([[10, 10, 20], [20, 20, 20]])\n",
    "chi2_contingency(obs)"
   ]
  },
  {
   "cell_type": "code",
   "execution_count": 92,
   "metadata": {},
   "outputs": [
    {
     "data": {
      "text/plain": [
       "array([[10, 10, 20],\n",
       "       [20, 20, 20]])"
      ]
     },
     "execution_count": 92,
     "metadata": {},
     "output_type": "execute_result"
    }
   ],
   "source": [
    "obs"
   ]
  },
  {
   "cell_type": "code",
   "execution_count": 116,
   "metadata": {},
   "outputs": [
    {
     "data": {
      "text/plain": [
       "(564.2675244800259,\n",
       " 0.030109250088757696,\n",
       " 503L,\n",
       " array([[0.89261745, 0.44630872, 0.89261745, ..., 0.44630872, 0.44630872,\n",
       "         0.44630872],\n",
       "        [1.10738255, 0.55369128, 1.10738255, ..., 0.55369128, 0.55369128,\n",
       "         0.55369128]]))"
      ]
     },
     "execution_count": 116,
     "metadata": {},
     "output_type": "execute_result"
    }
   ],
   "source": [
    "from scipy.stats import chi2_contingency\n",
    "c1 = fcats[1]\n",
    "c2 = fcats[2]\n",
    "dist = computeDistributionBetween(c1, c2)\n",
    "l1 = dist[c1]\n",
    "l2 = dist[c2]\n",
    "ll1 = []\n",
    "ll2 = []\n",
    "for i, l in enumerate(l1):\n",
    "    k = l2[i]\n",
    "    if l == k and l ==0: continue\n",
    "    ll1.append(l)\n",
    "    ll2.append(k)\n",
    "\n",
    "obs = np.array([ll1,ll2])\n",
    "chi2_contingency(obs, lambda_=\"log-likelihood\")"
   ]
  },
  {
   "cell_type": "code",
   "execution_count": 115,
   "metadata": {},
   "outputs": [
    {
     "data": {
      "text/plain": [
       "array([[1, 0, 0, ..., 0, 0, 0],\n",
       "       [1, 1, 0, ..., 0, 0, 0]])"
      ]
     },
     "execution_count": 115,
     "metadata": {},
     "output_type": "execute_result"
    }
   ],
   "source": [
    "obs"
   ]
  },
  {
   "cell_type": "markdown",
   "metadata": {},
   "source": [
    "# compute distribution of topic for a given topic category for the cooccurrence of two topic categories"
   ]
  },
  {
   "cell_type": "code",
   "execution_count": 125,
   "metadata": {},
   "outputs": [],
   "source": [
    "# 1. find all posts where c1 and c2 co-occur\n",
    "# 2. find all topics under c1 or c2 that are found in those common posts\n",
    "# 3. count the occurrence of the topics among the common posts "
   ]
  },
  {
   "cell_type": "code",
   "execution_count": 12,
   "metadata": {},
   "outputs": [],
   "source": [
    "def findCollocatedPosts():\n",
    "    isnullFinalCategory4 = pd.isnull(df[\"FinalCategory4\"])\n",
    "    colocates = dict()\n",
    "    for i, c1 in enumerate(fcats):\n",
    "        #colocates[c1] = dict()\n",
    "        for j, c2 in enumerate(fcats):\n",
    "            if i < j : continue\n",
    "            if c1 == c2: continue\n",
    "            key = c1+'=>'+c2\n",
    "            colocates[key] = []\n",
    "    for index, row in df.iterrows():\n",
    "        if isnullFinalCategory4[index]: continue\n",
    "        isrelevant = row[\"Relevant\"]\n",
    "        if isrelevant!= 'Y': continue\n",
    "        cat4 = row[\"FinalCategory4\"]\n",
    "        cats = [c.lower().strip() for c in cat4.split(\"|\")]\n",
    "        for l1 in cats:\n",
    "            for l2 in cats:\n",
    "                if l1 == l2: continue\n",
    "                key1 =  l1+'=>'+l2\n",
    "                key2 =  l2+'=>'+l1\n",
    "                if key1 in colocates:\n",
    "                    colocates[key1].append(row)\n",
    "                elif key2 in colocates: \n",
    "                    colocates[key2].append(row)\n",
    "    return colocates"
   ]
  },
  {
   "cell_type": "code",
   "execution_count": 13,
   "metadata": {},
   "outputs": [],
   "source": [
    "#c1 = fcats[0]\n",
    "#c1 = fcats[1]\n",
    "colocates = findCollocatedPosts()"
   ]
  },
  {
   "cell_type": "code",
   "execution_count": 132,
   "metadata": {},
   "outputs": [
    {
     "data": {
      "text/plain": [
       "['education & societal concerns=>personal & family wellbeing',\n",
       " 'education & societal concerns=>financial concerns',\n",
       " 'financial concerns=>technical aspects',\n",
       " 'worplace & professional aspects=>lockdown preparedness',\n",
       " 'financial concerns=>lockdown preparedness',\n",
       " 'personal & family wellbeing=>lockdown preparedness',\n",
       " 'education & societal concerns=>worplace & professional aspects',\n",
       " 'personal & family wellbeing=>technical aspects',\n",
       " 'education & societal concerns=>lockdown preparedness',\n",
       " 'technical aspects=>lockdown preparedness',\n",
       " 'worplace & professional aspects=>personal & family wellbeing',\n",
       " 'worplace & professional aspects=>technical aspects',\n",
       " 'financial concerns=>personal & family wellbeing',\n",
       " 'education & societal concerns=>technical aspects',\n",
       " 'financial concerns=>worplace & professional aspects']"
      ]
     },
     "execution_count": 132,
     "metadata": {},
     "output_type": "execute_result"
    }
   ],
   "source": [
    "colocates.keys()"
   ]
  },
  {
   "cell_type": "code",
   "execution_count": 133,
   "metadata": {},
   "outputs": [
    {
     "data": {
      "text/plain": [
       "id                                                          2437976\n",
       "creation_time                                   2020-03-20 21:40:10\n",
       "score                                                            31\n",
       "num_comments                                                     24\n",
       "tags                                  rant,difficult family,fuck it\n",
       "has_image                                                       NaN\n",
       "text              !dev\\n\\nDay 8 in isolation.\\nIm lonely..\\nMy b...\n",
       "Relevant                                                          Y\n",
       "Label1                                                    isolation\n",
       "Label2                                                   loneliness\n",
       "Label3                                               family/friends\n",
       "Label4                                                     politics\n",
       "Label5                                                          NaN\n",
       "Label6                                                          NaN\n",
       "polarity                                                          n\n",
       "Emotion1                                                      Anger\n",
       "Emotion2                                                       Fear\n",
       "Emotion3                                                        NaN\n",
       "sarcasm                                                           Y\n",
       "irony                                                           NaN\n",
       "Category1                                      loneliness,lonliness\n",
       "Category2                                  mental,mental,discussion\n",
       "Category3                                    health,health,politics\n",
       "Category4                              Wellbeing,Wellbeing,Societal\n",
       "FinalCategory4    Personal & Family Wellbeing|Education & Societ...\n",
       "FinalCategory3                       Health & Safety|Law & Politics\n",
       "Name: 12, dtype: object"
      ]
     },
     "execution_count": 133,
     "metadata": {},
     "output_type": "execute_result"
    }
   ],
   "source": [
    "colocates['education & societal concerns=>personal & family wellbeing'][0]"
   ]
  },
  {
   "cell_type": "code",
   "execution_count": 14,
   "metadata": {},
   "outputs": [
    {
     "data": {
      "text/plain": [
       "46"
      ]
     },
     "execution_count": 14,
     "metadata": {},
     "output_type": "execute_result"
    }
   ],
   "source": [
    "len(colocates['education & societal concerns=>personal & family wellbeing'])"
   ]
  },
  {
   "cell_type": "code",
   "execution_count": 28,
   "metadata": {},
   "outputs": [],
   "source": [
    "mapTopic = {\n",
    "    'awareness'      : 'Awareness',\n",
    "    'business'       : 'Business',\n",
    "    'development'    : 'Development',\n",
    "    'domestic'       : 'Work Life Balance',\n",
    "    'education'      : 'Education',\n",
    "    'entertainment'  : 'Entertainment',\n",
    "    'environment'    : 'Environment',\n",
    "    'ergonomics'     : 'Ergonomics',\n",
    "    'health'         : 'Health & Safety',\n",
    "    'job'            : 'Jobs & Finance',\n",
    "    'pandemic'       : 'Coping',\n",
    "    'politics'       : 'Law & Politics',\n",
    "    'productivity'   : 'Productivity',\n",
    "    'relationship'   : 'Relationship',\n",
    "    'security'       : 'Security',\n",
    "    'social'         : 'Family & Friends',\n",
    "    'technology'     : 'Technology',\n",
    "    'telework'       : 'Telework',\n",
    "    'travel'         : 'Travel Issues',\n",
    "    'work/life work/life balance': 'Work Life Balance'\n",
    "}\n",
    "mapTopicCategory = {\n",
    "    'financial': 'Financial Concerns',\n",
    "    'emergency': 'Lockdown Preparedness',\n",
    "    'technical': 'Technical Aspects',\n",
    "    'wellbeing': 'Personal & Family Wellbeing',\n",
    "    'societal' : 'Education & Societal Concerns',\n",
    "    'workplace': 'Worplace & Professional Aspects'\n",
    "}\n",
    "topicByCategories = {\n",
    "    'financial': ['job', 'business'],\n",
    "    'emergency': ['pandemic', 'awareness'],\n",
    "    'technical': ['development', 'technology', 'security'],\n",
    "    'wellbeing': ['entertainment', 'health', 'social', 'work/life work/life balance'],\n",
    "    'societal' : ['education', 'politics', 'environment'],\n",
    "    'workplace': ['telework', 'relationship', 'productivity', 'ergonomics', 'travel']\n",
    "}\n",
    "topicByCategoriesMapped = {\n",
    "    'financial': ['Jobs & Finance', 'Business'],\n",
    "    'emergency': ['Coping', 'Awareness'],\n",
    "    'technical': ['Development', 'Technology', 'Security'],\n",
    "    'wellbeing': ['Entertainment', 'Health & Safety', 'Family & Friends', 'Work Life Balance'],\n",
    "    'societal' : ['Education', 'Law & Politics', 'Environment'],\n",
    "    'workplace': ['Telework', 'Relationship', 'Productivity', 'Ergonomics', 'Travel Issues']\n",
    "}\n",
    "\n"
   ]
  },
  {
   "cell_type": "code",
   "execution_count": 29,
   "metadata": {},
   "outputs": [],
   "source": [
    "def findTopicForTwoCategories(c1,c2,c3):\n",
    "    mc1 = mapTopicCategory[c1].lower()\n",
    "    mc2 = mapTopicCategory[c2].lower()\n",
    "    mc3 = mapTopicCategory[c3].lower()\n",
    "    key1 = mc1+'=>'+mc2\n",
    "    key2 = mc2+'=>'+mc1\n",
    "    if key1 in colocates:\n",
    "        records = colocates[key1]\n",
    "    elif key2 in colocates:\n",
    "        records = colocates[key2]\n",
    "    else:\n",
    "        print \"Do not exist keys: \", key1, ' and ', key2\n",
    "        return\n",
    "    topics = dict()\n",
    "    tot = len(records)\n",
    "    for record in records:\n",
    "        cat3 = record[\"FinalCategory3\"]\n",
    "        #cat3 = cat3.lower()\n",
    "        cats = [cat.strip() for cat in cat3.split(\"|\")]\n",
    "        for cat in cats:\n",
    "            if cat in topicByCategoriesMapped[c3]:\n",
    "                if cat not in topics: \n",
    "                    topics[cat] = 0\n",
    "                topics[cat] += 1\n",
    "    fracs = dict()\n",
    "    for cat in topics:\n",
    "        fracs[cat] = topics[cat]*100/tot\n",
    "    print topics\n",
    "    print fracs\n",
    "    print tot"
   ]
  },
  {
   "cell_type": "code",
   "execution_count": 30,
   "metadata": {},
   "outputs": [
    {
     "name": "stdout",
     "output_type": "stream",
     "text": [
      "workplace financial\n",
      "{u'Travel Issues': 8, u'Productivity': 8, u'Relationship': 54, u'Telework': 56}\n",
      "{u'Travel Issues': 7.407407407407407, u'Productivity': 7.407407407407407, u'Relationship': 50.0, u'Telework': 51.851851851851855}\n",
      "108\n",
      "................................................................................\n",
      "workplace emergency\n",
      "{u'Travel Issues': 12, u'Productivity': 8, u'Ergonomics': 6, u'Relationship': 50, u'Telework': 112}\n",
      "{u'Travel Issues': 8.108108108108109, u'Productivity': 5.405405405405405, u'Ergonomics': 4.054054054054054, u'Relationship': 33.78378378378378, u'Telework': 75.67567567567568}\n",
      "148\n",
      "................................................................................\n",
      "workplace technical\n",
      "{u'Travel Issues': 8, u'Productivity': 26, u'Ergonomics': 12, u'Relationship': 42, u'Telework': 152}\n",
      "{u'Travel Issues': 4.25531914893617, u'Productivity': 13.829787234042554, u'Ergonomics': 6.382978723404255, u'Relationship': 22.340425531914892, u'Telework': 80.85106382978724}\n",
      "188\n",
      "................................................................................\n",
      "workplace wellbeing\n",
      "{u'Travel Issues': 14, u'Productivity': 28, u'Ergonomics': 6, u'Relationship': 58, u'Telework': 184}\n",
      "{u'Travel Issues': 6.086956521739131, u'Productivity': 12.173913043478262, u'Ergonomics': 2.608695652173913, u'Relationship': 25.217391304347824, u'Telework': 80.0}\n",
      "230\n",
      "................................................................................\n",
      "workplace societal\n",
      "{u'Travel Issues': 10, u'Productivity': 6, u'Relationship': 12, u'Telework': 80}\n",
      "{u'Travel Issues': 10.638297872340425, u'Productivity': 6.382978723404255, u'Relationship': 12.76595744680851, u'Telework': 85.1063829787234}\n",
      "94\n",
      "................................................................................\n",
      "workplace workplace\n",
      "Do not exist keys:  worplace & professional aspects=>worplace & professional aspects  and  worplace & professional aspects=>worplace & professional aspects\n",
      "................................................................................\n"
     ]
    }
   ],
   "source": [
    "c1 = 'workplace'\n",
    "c2 = 'wellbeing'\n",
    "c3 = c1\n",
    "for c2 in topicByCategories:\n",
    "    print c1, c2\n",
    "    findTopicForTwoCategories(c1,c2,c3)\n",
    "    print \".\"*80"
   ]
  },
  {
   "cell_type": "code",
   "execution_count": 57,
   "metadata": {},
   "outputs": [
    {
     "name": "stdout",
     "output_type": "stream",
     "text": [
      "societal financial\n",
      "{u'Law & Politics': 20, u'Education': 8}\n",
      "{u'Law & Politics': 71.42857142857143, u'Education': 28.571428571428573}\n",
      "28\n",
      "................................................................................\n",
      "societal emergency\n",
      "{u'Environment': 10, u'Law & Politics': 44, u'Education': 38}\n",
      "{u'Environment': 11.363636363636363, u'Law & Politics': 50.0, u'Education': 43.18181818181818}\n",
      "88\n",
      "................................................................................\n",
      "societal technical\n",
      "{u'Law & Politics': 16, u'Education': 22}\n",
      "{u'Law & Politics': 42.10526315789474, u'Education': 57.89473684210526}\n",
      "38\n",
      "................................................................................\n",
      "societal wellbeing\n",
      "{u'Environment': 2, u'Law & Politics': 34, u'Education': 10}\n",
      "{u'Environment': 4.3478260869565215, u'Law & Politics': 73.91304347826087, u'Education': 21.73913043478261}\n",
      "46\n",
      "................................................................................\n",
      "societal workplace\n",
      "{u'Environment': 10, u'Law & Politics': 46, u'Education': 38}\n",
      "{u'Environment': 10.638297872340425, u'Law & Politics': 48.93617021276596, u'Education': 40.42553191489362}\n",
      "94\n",
      "................................................................................\n"
     ]
    }
   ],
   "source": [
    "c1 = 'societal'\n",
    "c3 = c1\n",
    "for c2 in topicByCategories:\n",
    "    if c1 == c2: continue\n",
    "    print c1, c2\n",
    "    findTopicForTwoCategories(c1,c2,c3)\n",
    "    print \".\"*80"
   ]
  },
  {
   "cell_type": "code",
   "execution_count": null,
   "metadata": {},
   "outputs": [],
   "source": []
  },
  {
   "cell_type": "code",
   "execution_count": null,
   "metadata": {},
   "outputs": [],
   "source": []
  },
  {
   "cell_type": "code",
   "execution_count": null,
   "metadata": {},
   "outputs": [],
   "source": []
  },
  {
   "cell_type": "code",
   "execution_count": null,
   "metadata": {},
   "outputs": [],
   "source": []
  },
  {
   "cell_type": "code",
   "execution_count": null,
   "metadata": {},
   "outputs": [],
   "source": []
  },
  {
   "cell_type": "code",
   "execution_count": 144,
   "metadata": {},
   "outputs": [
    {
     "name": "stdout",
     "output_type": "stream",
     "text": [
      "{u'entertainment': 58}\n",
      "{u'entertainment': 25.217391304347824}\n",
      "230\n"
     ]
    }
   ],
   "source": [
    "c1 = 'workplace'\n",
    "c2 = 'wellbeing'\n",
    "c3 = c2\n",
    "findTopicForTwoCategories(c1,c2,c3)"
   ]
  },
  {
   "cell_type": "code",
   "execution_count": 41,
   "metadata": {},
   "outputs": [],
   "source": [
    "def getPostInfoForTopicForTwoCategories(c1, c2, c3):\n",
    "    mc1 = mapTopicCategory[c1].lower()\n",
    "    mc2 = mapTopicCategory[c2].lower()\n",
    "    mc3 = mapTopicCategory[c3].lower()\n",
    "    key1 = mc1+'=>'+mc2\n",
    "    key2 = mc2+'=>'+mc1\n",
    "    if key1 in colocates:\n",
    "        records = colocates[key1]\n",
    "    elif key2 in colocates:\n",
    "        records = colocates[key2]\n",
    "    topics = dict()\n",
    "    for record in records:\n",
    "        cat3 = record[\"FinalCategory3\"]\n",
    "        #cat3 = cat3.lower()\n",
    "        cats = [cat.strip() for cat in cat3.split(\"|\")]\n",
    "        for cat in cats:\n",
    "            if cat in topicByCategoriesMapped[c3]:\n",
    "                if cat not in topics: \n",
    "                    topics[cat] = []\n",
    "                topics[cat].append({'id': record[\"id\"], \"text\": record[\"text\"]})\n",
    "    return topics"
   ]
  },
  {
   "cell_type": "code",
   "execution_count": 147,
   "metadata": {},
   "outputs": [
    {
     "data": {
      "text/plain": [
       "[{'id': 2439836L,\n",
       "  'text': u\"#TheCoronaEffect\\n\\nBefore Corona: (Work From Office)\\n\\nBoss: Let's have a call.\\nMe: Sure, allow me some time I am assisting the team on a new feature in the app.\\nBoss: Ok, ping me as you get free.\\n\\n----------------------------------------------------------\\n\\nNow: (Work From Home)\\n\\nBoss: ***Calls for the 15th time in a day...***\\nMe: (With Bleeding Ears) Yes sir, am here...!\\n(Having to pick up every single time as he knows you've got nowhere to go 'coz the whole city is in LockDown)\\nBoss: ***Talks for another 1 hour with screen share***\\n\\nMy Boss is a bigger threat to my health than Corona now!!!\\n\\n#GoCoronaGo\"},\n",
       " {'id': 2439836L,\n",
       "  'text': u\"#TheCoronaEffect\\n\\nBefore Corona: (Work From Office)\\n\\nBoss: Let's have a call.\\nMe: Sure, allow me some time I am assisting the team on a new feature in the app.\\nBoss: Ok, ping me as you get free.\\n\\n----------------------------------------------------------\\n\\nNow: (Work From Home)\\n\\nBoss: ***Calls for the 15th time in a day...***\\nMe: (With Bleeding Ears) Yes sir, am here...!\\n(Having to pick up every single time as he knows you've got nowhere to go 'coz the whole city is in LockDown)\\nBoss: ***Talks for another 1 hour with screen share***\\n\\nMy Boss is a bigger threat to my health than Corona now!!!\\n\\n#GoCoronaGo\"},\n",
       " {'id': 2449277L,\n",
       "  'text': u'Corona should have started in vegas.\\nBecause you know, whatever happens in vegas...'},\n",
       " {'id': 2449277L,\n",
       "  'text': u'Corona should have started in vegas.\\nBecause you know, whatever happens in vegas...'},\n",
       " {'id': 2432760L,\n",
       "  'text': u\"Did some math about corona development in germany...\\neven if we immediately lockdown, the health system will be far overstressed.\\n\\nwe're literally fucked.\\n\\nbut dont believe me, dont believe the rki, go run the numbers yourself and keep in mind, that theres a 2 week incubation period\"}]"
      ]
     },
     "execution_count": 147,
     "metadata": {},
     "output_type": "execute_result"
    }
   ],
   "source": [
    "c1 = 'workplace'\n",
    "c2 = 'wellbeing'\n",
    "c3 = c1\n",
    "topics = getPostInfoForTopicForTwoCategories(c1,c2,c3)\n",
    "topics['telework'][0:5]"
   ]
  },
  {
   "cell_type": "code",
   "execution_count": 42,
   "metadata": {},
   "outputs": [
    {
     "data": {
      "text/plain": [
       "[u'Family & Friends',\n",
       " u'Health & Safety',\n",
       " u'Work Life Balance',\n",
       " u'Entertainment']"
      ]
     },
     "execution_count": 42,
     "metadata": {},
     "output_type": "execute_result"
    }
   ],
   "source": [
    "c1 = 'wellbeing'\n",
    "c2 = 'workplace'\n",
    "c3 = c1\n",
    "topics = getPostInfoForTopicForTwoCategories(c1,c2,c3)\n",
    "topics.keys()\n",
    "#topics['Work Life Balance'][0:5]"
   ]
  },
  {
   "cell_type": "code",
   "execution_count": 45,
   "metadata": {},
   "outputs": [
    {
     "data": {
      "text/plain": [
       "[{'id': 2426973L,\n",
       "  'text': u'[corona wk]\\nNot at all, but i bought an electric scooter so i dont have to take public transport.\\n\\nAlso instead of \"bless you\" we now say \"corona\".'},\n",
       " {'id': 2426973L,\n",
       "  'text': u'[corona wk]\\nNot at all, but i bought an electric scooter so i dont have to take public transport.\\n\\nAlso instead of \"bless you\" we now say \"corona\".'},\n",
       " {'id': 2439099L,\n",
       "  'text': u'Day 5 in quarantine: I miss my fuckin pig ignorant arrogant toxic motherfucker boss and coworkers ! I learned to deal with those motherfucker everyday for 7 Years. \\n\\nPs: 10 years ago I loved my wife. \\U0001f625'},\n",
       " {'id': 2439099L,\n",
       "  'text': u'Day 5 in quarantine: I miss my fuckin pig ignorant arrogant toxic motherfucker boss and coworkers ! I learned to deal with those motherfucker everyday for 7 Years. \\n\\nPs: 10 years ago I loved my wife. \\U0001f625'},\n",
       " {'id': 2432760L,\n",
       "  'text': u\"Did some math about corona development in germany...\\neven if we immediately lockdown, the health system will be far overstressed.\\n\\nwe're literally fucked.\\n\\nbut dont believe me, dont believe the rki, go run the numbers yourself and keep in mind, that theres a 2 week incubation period\"}]"
      ]
     },
     "execution_count": 45,
     "metadata": {},
     "output_type": "execute_result"
    }
   ],
   "source": [
    "topics['Family & Friends'][0:5]"
   ]
  },
  {
   "cell_type": "code",
   "execution_count": 52,
   "metadata": {},
   "outputs": [
    {
     "data": {
      "text/plain": [
       "[u'Coping', u'Awareness']"
      ]
     },
     "execution_count": 52,
     "metadata": {},
     "output_type": "execute_result"
    }
   ],
   "source": [
    "c1 = 'emergency'\n",
    "c2 = 'financial'\n",
    "c3 = c1\n",
    "topics = getPostInfoForTopicForTwoCategories(c1,c2,c3)\n",
    "topics.keys()"
   ]
  },
  {
   "cell_type": "code",
   "execution_count": 53,
   "metadata": {},
   "outputs": [
    {
     "data": {
      "text/plain": [
       "[{'id': 2445298L,\n",
       "  'text': u\"I haven't coded for a week which is the longest I've gone without a commit in about 4 years. People are bitching worldwide about deaths and total economy collapse and I'd probably give a shit if forced isolation hadn't completely fucked up a routine that took years for me to perfect.\\n\\nMy productivity before COVID-19 was showing me six figures and I had a perfect work:life balance. Now my coworkers are just ranting back-and-forth, sharing memes, hypothesising about how much this is going to fuck the planet and what it will mean for our jobs when we finally go back. A few of my coworkers have returned but my department is changing projects so I've got to wait at least another week.\\n\\nIf it wasn't for my partner starting her first day at a kickass new job tomorrow, my mates and the hobby projects I've got, I don't even know...\\n\\nI'm glad my country is taking isolation so seriously and I don't care if I'm not making money for a while. I just wish I could help some of my friends who have lost fucking everything, seemingly all because some people want to drink bat piss and think there won't be any consequences.\"},\n",
       " {'id': 2445298L,\n",
       "  'text': u\"I haven't coded for a week which is the longest I've gone without a commit in about 4 years. People are bitching worldwide about deaths and total economy collapse and I'd probably give a shit if forced isolation hadn't completely fucked up a routine that took years for me to perfect.\\n\\nMy productivity before COVID-19 was showing me six figures and I had a perfect work:life balance. Now my coworkers are just ranting back-and-forth, sharing memes, hypothesising about how much this is going to fuck the planet and what it will mean for our jobs when we finally go back. A few of my coworkers have returned but my department is changing projects so I've got to wait at least another week.\\n\\nIf it wasn't for my partner starting her first day at a kickass new job tomorrow, my mates and the hobby projects I've got, I don't even know...\\n\\nI'm glad my country is taking isolation so seriously and I don't care if I'm not making money for a while. I just wish I could help some of my friends who have lost fucking everything, seemingly all because some people want to drink bat piss and think there won't be any consequences.\"},\n",
       " {'id': 2437238L,\n",
       "  'text': u'Anyone been laid off or been made redundant on their jobs? I\\u2019m scared for my own one.....'},\n",
       " {'id': 2437238L,\n",
       "  'text': u'Anyone been laid off or been made redundant on their jobs? I\\u2019m scared for my own one.....'},\n",
       " {'id': 2444291L, 'text': u'covid'},\n",
       " {'id': 2444291L, 'text': u'covid'},\n",
       " {'id': 2433570L,\n",
       "  'text': u\"And the stock market is plunging again.... Who gives a fuck....\\n\\nIt makes no logical sense? Unless someone wants to enlighten me... But I don't see much downside...\\n\\nCOVID kills us all => who gives a fuck about stock prices\\n\\nCOVID kills most of us => who gives a fuck about stock prices, aka pieces of paper. All the survivors will create a new society and either split the goods or fight over them. It'll be like Survivor... But real.\\n\\nCOVID goes away and doesn't do anything => great time to buy buy buy since all you idiots basically just gave me like a huge discount on stock prices. AKA a long overdue market correction\"},\n",
       " {'id': 2433570L,\n",
       "  'text': u\"And the stock market is plunging again.... Who gives a fuck....\\n\\nIt makes no logical sense? Unless someone wants to enlighten me... But I don't see much downside...\\n\\nCOVID kills us all => who gives a fuck about stock prices\\n\\nCOVID kills most of us => who gives a fuck about stock prices, aka pieces of paper. All the survivors will create a new society and either split the goods or fight over them. It'll be like Survivor... But real.\\n\\nCOVID goes away and doesn't do anything => great time to buy buy buy since all you idiots basically just gave me like a huge discount on stock prices. AKA a long overdue market correction\"},\n",
       " {'id': 2458729L,\n",
       "  'text': u'I know this is selfish, but this whole COVID-19 thing is driving me insane. The virus and quarantine I don\\'t mind too much. What gets me is the number of people I see every single day having legit panic attacks because they can\\'t buy \"x\" right now and it\\'s the end of the world. I can\\'t stand people who are literally in tears because they have to take an extra day off of work each week because of the state of the economy. I\\'ve been virtually unemployed for two years (not for lack of trying) and borderline homeless for six months. Grow up. You have a Lexus, a Range Rover, and a four bedroom house for you and your partner.'},\n",
       " {'id': 2458729L,\n",
       "  'text': u'I know this is selfish, but this whole COVID-19 thing is driving me insane. The virus and quarantine I don\\'t mind too much. What gets me is the number of people I see every single day having legit panic attacks because they can\\'t buy \"x\" right now and it\\'s the end of the world. I can\\'t stand people who are literally in tears because they have to take an extra day off of work each week because of the state of the economy. I\\'ve been virtually unemployed for two years (not for lack of trying) and borderline homeless for six months. Grow up. You have a Lexus, a Range Rover, and a four bedroom house for you and your partner.'}]"
      ]
     },
     "execution_count": 53,
     "metadata": {},
     "output_type": "execute_result"
    }
   ],
   "source": [
    "topics['Coping'][0:10]"
   ]
  },
  {
   "cell_type": "code",
   "execution_count": null,
   "metadata": {},
   "outputs": [],
   "source": []
  }
 ],
 "metadata": {
  "kernelspec": {
   "display_name": "Python 2",
   "language": "python",
   "name": "python2"
  },
  "language_info": {
   "codemirror_mode": {
    "name": "ipython",
    "version": 2
   },
   "file_extension": ".py",
   "mimetype": "text/x-python",
   "name": "python",
   "nbconvert_exporter": "python",
   "pygments_lexer": "ipython2",
   "version": "2.7.15"
  }
 },
 "nbformat": 4,
 "nbformat_minor": 2
}
